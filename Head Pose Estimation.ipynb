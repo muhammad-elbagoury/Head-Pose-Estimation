{
 "cells": [
  {
   "cell_type": "code",
   "execution_count": null,
   "metadata": {},
   "outputs": [],
   "source": []
  },
  {
   "cell_type": "code",
   "execution_count": 1,
   "metadata": {},
   "outputs": [],
   "source": [
    "import mediapipe as mp\n",
    "import cv2\n",
    "import scipy.io as sio\n",
    "import matplotlib.pyplot as plt\n",
    "import os\n",
    "import pandas as pd"
   ]
  },
  {
   "cell_type": "code",
   "execution_count": 3,
   "metadata": {},
   "outputs": [],
   "source": [
    "dir_path = 'AFLW2000/'\n",
    "paths = os.listdir(dir_path)\n",
    "images_paths = [x for x in paths if x.split('.')[1] == 'jpg']\n",
    "mats_paths = [x for x in paths if x.split('.')[1] == 'mat']"
   ]
  },
  {
   "cell_type": "code",
   "execution_count": 51,
   "metadata": {},
   "outputs": [],
   "source": [
    "# img = cv2.imread('image00013.jpg')\n",
    "# img = cv2.cvtColor(img, cv2.COLOR_BGR2RGB)\n",
    "# sio.loadmat('image00013')\n",
    "# plt.imshow(img)"
   ]
  },
  {
   "cell_type": "code",
   "execution_count": 62,
   "metadata": {},
   "outputs": [],
   "source": [
    "# # FaceMesh has two real-time deep neural network models that work together: \n",
    "# # 1st --> Detector Model that operates on the full image and computes face locations\n",
    "# # 2nd --> Face Landmark Model that operates on those locations and predicts the approximate 3D surface via regression\n",
    "# faceModule = mp.solutions.face_mesh\n",
    "# face = faceModule.FaceMesh(static_image_mode=True)\n",
    "# # Load the image\n",
    "# image = cv2.imread('image04355.jpg')\n",
    "# # Process the image to extract the points (468 point) --> Landmarks ---- len=1\n",
    "# # Which is a list of 1 item maybe a data structure contains all landmarks\n",
    "# results = face.process(cv2.cvtColor(image, cv2.COLOR_BGR2RGB))\n",
    "# if results.multi_face_landmarks != None:\n",
    "#     # Loop over faces in the image\n",
    "#     for face in results.multi_face_landmarks:\n",
    "#         # Loop over lanmarks in every face\n",
    "#         for landmark in face.landmark:\n",
    "#             # Every landmark has x and y\n",
    "#             x = landmark.x\n",
    "#             y = landmark.y\n",
    "#             # Note: x & y values are scaled to the their width and height maybe face has its own coordinate system\n",
    "#             # So we will transform to coordinate system in the whole image\n",
    "#             shape = image.shape\n",
    "#             rel_x = int(x * shape[1])\n",
    "#             rel_y = int(y * shape[0])\n",
    "#             # To draw a circle of points on the face for every landmark --> Note the thickness\n",
    "#             cv2.circle(img=image, center=(rel_x, rel_y), radius=1, color=(0, 255, 0), thickness=2)\n",
    "#     plt.imshow(image)"
   ]
  },
  {
   "cell_type": "code",
   "execution_count": 65,
   "metadata": {},
   "outputs": [],
   "source": [
    "raw_df = pd.DataFrame(columns=list(range(1, (468*2)+1)) + ['Yaw', 'Pitch', 'Roll'])"
   ]
  },
  {
   "cell_type": "code",
   "execution_count": 74,
   "metadata": {},
   "outputs": [
    {
     "ename": "",
     "evalue": "",
     "output_type": "error",
     "traceback": [
      "\u001b[1;31mCanceled future for execute_request message before replies were done"
     ]
    },
    {
     "ename": "",
     "evalue": "",
     "output_type": "error",
     "traceback": [
      "\u001b[1;31mThe Kernel crashed while executing code in the the current cell or a previous cell. Please review the code in the cell(s) to identify a possible cause of the failure. Click <a href='https://aka.ms/vscodeJupyterKernelCrash'>here</a> for more info. View Jupyter <a href='command:jupyter.viewOutput'>log</a> for further details."
     ]
    }
   ],
   "source": [
    "# FaceMesh has two real-time deep neural network models that work together: \n",
    "# 1st --> Detector Model that operates on the full image and computes face locations\n",
    "# 2nd --> Face Landmark Model that operates on those locations and predicts the approximate 3D surface via regression\n",
    "for img_path, mat_path in zip(images_paths, mats_paths):\n",
    "    i = 0\n",
    "    lst = []\n",
    "    faceModule = mp.solutions.face_mesh\n",
    "    face = faceModule.FaceMesh(static_image_mode=True)\n",
    "    # Load the image\n",
    "    image = cv2.imread(dir_path + img_path)\n",
    "    # Process the image to extract the points (468 point) --> Landmarks ---- len=1\n",
    "    # Which is a list of 1 item maybe a data structure contains all landmarks\n",
    "    results = face.process(cv2.cvtColor(image, cv2.COLOR_BGR2RGB))\n",
    "\n",
    "    if results.multi_face_landmarks != None:\n",
    "        # Loop over faces in the image\n",
    "        for face in results.multi_face_landmarks:\n",
    "            # Loop over lanmarks in every face\n",
    "            for landmark in face.landmark:\n",
    "                # Every landmark has x and y\n",
    "                x = landmark.x\n",
    "                y = landmark.y\n",
    "                lst.append(x)\n",
    "                lst.append(y)\n",
    "\n",
    "            # Load the mat file\n",
    "            lst = lst + list(sio.loadmat(dir_path+mats_paths[0])['Pose_Para'][0][:3])\n",
    "            \n",
    "            raw_df.loc[i] = lst\n",
    "            i += 1"
   ]
  },
  {
   "cell_type": "code",
   "execution_count": null,
   "metadata": {},
   "outputs": [],
   "source": []
  }
 ],
 "metadata": {
  "kernelspec": {
   "display_name": "Python 3.10.4 64-bit",
   "language": "python",
   "name": "python3"
  },
  "language_info": {
   "codemirror_mode": {
    "name": "ipython",
    "version": 3
   },
   "file_extension": ".py",
   "mimetype": "text/x-python",
   "name": "python",
   "nbconvert_exporter": "python",
   "pygments_lexer": "ipython3",
   "version": "3.10.4"
  },
  "orig_nbformat": 4,
  "vscode": {
   "interpreter": {
    "hash": "78cf9bbf4d5673c22b70b0226dc0d585727fc71a1c48b884c876ecd8bc8de803"
   }
  }
 },
 "nbformat": 4,
 "nbformat_minor": 2
}
