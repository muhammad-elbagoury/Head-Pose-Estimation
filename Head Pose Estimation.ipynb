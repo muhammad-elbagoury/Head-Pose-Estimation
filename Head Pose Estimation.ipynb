{
 "cells": [
  {
   "cell_type": "code",
   "execution_count": null,
   "metadata": {},
   "outputs": [],
   "source": []
  },
  {
   "cell_type": "code",
   "execution_count": 1,
   "metadata": {},
   "outputs": [],
   "source": [
    "import mediapipe as mp\n",
    "import cv2\n",
    "import scipy.io as sio\n",
    "import matplotlib.pyplot as plt\n",
    "import os\n",
    "import pandas as pd"
   ]
  },
  {
   "cell_type": "code",
   "execution_count": 2,
   "metadata": {},
   "outputs": [],
   "source": [
    "dir_path = 'AFLW2000/'\n",
    "paths = os.listdir(dir_path)\n",
    "images_paths = [x for x in paths if x.split('.')[1] == 'jpg']\n",
    "mats_paths = [x for x in paths if x.split('.')[1] == 'mat']"
   ]
  },
  {
   "cell_type": "code",
   "execution_count": 3,
   "metadata": {},
   "outputs": [],
   "source": [
    "# img = cv2.imread('image00013.jpg')\n",
    "# img = cv2.cvtColor(img, cv2.COLOR_BGR2RGB)\n",
    "# sio.loadmat('image00013')\n",
    "# plt.imshow(img)"
   ]
  },
  {
   "cell_type": "code",
   "execution_count": 4,
   "metadata": {},
   "outputs": [],
   "source": [
    "# # FaceMesh has two real-time deep neural network models that work together: \n",
    "# # 1st --> Detector Model that operates on the full image and computes face locations\n",
    "# # 2nd --> Face Landmark Model that operates on those locations and predicts the approximate 3D surface via regression\n",
    "# faceModule = mp.solutions.face_mesh\n",
    "# face = faceModule.FaceMesh(static_image_mode=True)\n",
    "# # Load the image\n",
    "# image = cv2.imread('image04355.jpg')\n",
    "# # Process the image to extract the points (468 point) --> Landmarks ---- len=1\n",
    "# # Which is a list of 1 item maybe a data structure contains all landmarks\n",
    "# results = face.process(cv2.cvtColor(image, cv2.COLOR_BGR2RGB))\n",
    "# if results.multi_face_landmarks != None:\n",
    "#     # Loop over faces in the image\n",
    "#     for face in results.multi_face_landmarks:\n",
    "#         # Loop over lanmarks in every face\n",
    "#         for landmark in face.landmark:\n",
    "#             # Every landmark has x and y\n",
    "#             x = landmark.x\n",
    "#             y = landmark.y\n",
    "#             # Note: x & y values are scaled to the their width and height maybe face has its own coordinate system\n",
    "#             # So we will transform to coordinate system in the whole image\n",
    "#             shape = image.shape\n",
    "#             rel_x = int(x * shape[1])\n",
    "#             rel_y = int(y * shape[0])\n",
    "#             # To draw a circle of points on the face for every landmark --> Note the thickness\n",
    "#             cv2.circle(img=image, center=(rel_x, rel_y), radius=1, color=(0, 255, 0), thickness=2)\n",
    "#     plt.imshow(image)"
   ]
  },
  {
   "cell_type": "code",
   "execution_count": 5,
   "metadata": {},
   "outputs": [],
   "source": [
    "raw_df = pd.DataFrame(columns=list(range(1, (468*2)+1)) + ['Yaw', 'Pitch', 'Roll'])"
   ]
  },
  {
   "cell_type": "code",
   "execution_count": 40,
   "metadata": {},
   "outputs": [],
   "source": [
    "# FaceMesh has two real-time deep neural network models that work together: \n",
    "# 1st --> Detector Model that operates on the full image and computes face locations\n",
    "# 2nd --> Face Landmark Model that operates on those locations and predicts the approximate 3D surface via regression\n",
    "i = 0\n",
    "faceModule = mp.solutions.face_mesh\n",
    "for img_path, mat_path in zip(images_paths, mats_paths):\n",
    "    lst = []\n",
    "    with faceModule.FaceMesh(static_image_mode=True) as face:\n",
    "        # Load the image\n",
    "        image = cv2.imread(dir_path + img_path)\n",
    "        # Process the image to extract the points (468 point) --> Landmarks ---- len=1\n",
    "        # Which is a list of 1 item maybe a data structure contains all landmarks\n",
    "        results = face.process(cv2.cvtColor(image, cv2.COLOR_BGR2RGB))\n",
    "\n",
    "        if results.multi_face_landmarks != None:\n",
    "            # Loop over faces in the image\n",
    "            for face in results.multi_face_landmarks:\n",
    "                # Loop over lanmarks in every face\n",
    "                for landmark in face.landmark:\n",
    "                    # Every landmark has x and y\n",
    "                    x = landmark.x\n",
    "                    y = landmark.y\n",
    "                    lst.append(x)\n",
    "                    lst.append(y)\n",
    "\n",
    "                # Load the mat file\n",
    "                lst = lst + list(sio.loadmat(dir_path+mats_paths[0])['Pose_Para'][0][:3])\n",
    "\n",
    "                raw_df.loc[i] = lst\n",
    "                i += 1"
   ]
  },
  {
   "cell_type": "code",
   "execution_count": 41,
   "metadata": {},
   "outputs": [
    {
     "name": "stdout",
     "output_type": "stream",
     "text": [
      "(1853, 939)\n"
     ]
    },
    {
     "data": {
      "text/html": [
       "<div>\n",
       "<style scoped>\n",
       "    .dataframe tbody tr th:only-of-type {\n",
       "        vertical-align: middle;\n",
       "    }\n",
       "\n",
       "    .dataframe tbody tr th {\n",
       "        vertical-align: top;\n",
       "    }\n",
       "\n",
       "    .dataframe thead th {\n",
       "        text-align: right;\n",
       "    }\n",
       "</style>\n",
       "<table border=\"1\" class=\"dataframe\">\n",
       "  <thead>\n",
       "    <tr style=\"text-align: right;\">\n",
       "      <th></th>\n",
       "      <th>1</th>\n",
       "      <th>2</th>\n",
       "      <th>3</th>\n",
       "      <th>4</th>\n",
       "      <th>5</th>\n",
       "      <th>6</th>\n",
       "      <th>7</th>\n",
       "      <th>8</th>\n",
       "      <th>9</th>\n",
       "      <th>10</th>\n",
       "      <th>...</th>\n",
       "      <th>930</th>\n",
       "      <th>931</th>\n",
       "      <th>932</th>\n",
       "      <th>933</th>\n",
       "      <th>934</th>\n",
       "      <th>935</th>\n",
       "      <th>936</th>\n",
       "      <th>Yaw</th>\n",
       "      <th>Pitch</th>\n",
       "      <th>Roll</th>\n",
       "    </tr>\n",
       "  </thead>\n",
       "  <tbody>\n",
       "    <tr>\n",
       "      <th>0</th>\n",
       "      <td>0.485651</td>\n",
       "      <td>0.686891</td>\n",
       "      <td>0.489194</td>\n",
       "      <td>0.639722</td>\n",
       "      <td>0.489803</td>\n",
       "      <td>0.647257</td>\n",
       "      <td>0.479730</td>\n",
       "      <td>0.562529</td>\n",
       "      <td>0.490558</td>\n",
       "      <td>0.621214</td>\n",
       "      <td>...</td>\n",
       "      <td>0.492813</td>\n",
       "      <td>0.541429</td>\n",
       "      <td>0.500371</td>\n",
       "      <td>0.665669</td>\n",
       "      <td>0.471336</td>\n",
       "      <td>0.676091</td>\n",
       "      <td>0.464005</td>\n",
       "      <td>-0.399231</td>\n",
       "      <td>0.018227</td>\n",
       "      <td>0.085676</td>\n",
       "    </tr>\n",
       "    <tr>\n",
       "      <th>1</th>\n",
       "      <td>0.441502</td>\n",
       "      <td>0.642091</td>\n",
       "      <td>0.417273</td>\n",
       "      <td>0.592251</td>\n",
       "      <td>0.448839</td>\n",
       "      <td>0.610546</td>\n",
       "      <td>0.435994</td>\n",
       "      <td>0.545069</td>\n",
       "      <td>0.415757</td>\n",
       "      <td>0.576966</td>\n",
       "      <td>...</td>\n",
       "      <td>0.511724</td>\n",
       "      <td>0.500658</td>\n",
       "      <td>0.514913</td>\n",
       "      <td>0.584451</td>\n",
       "      <td>0.500244</td>\n",
       "      <td>0.594060</td>\n",
       "      <td>0.495387</td>\n",
       "      <td>-0.399231</td>\n",
       "      <td>0.018227</td>\n",
       "      <td>0.085676</td>\n",
       "    </tr>\n",
       "    <tr>\n",
       "      <th>2</th>\n",
       "      <td>0.317797</td>\n",
       "      <td>0.799190</td>\n",
       "      <td>0.321328</td>\n",
       "      <td>0.776498</td>\n",
       "      <td>0.318316</td>\n",
       "      <td>0.782066</td>\n",
       "      <td>0.311064</td>\n",
       "      <td>0.745973</td>\n",
       "      <td>0.321459</td>\n",
       "      <td>0.767816</td>\n",
       "      <td>...</td>\n",
       "      <td>0.720868</td>\n",
       "      <td>0.328639</td>\n",
       "      <td>0.723342</td>\n",
       "      <td>0.373404</td>\n",
       "      <td>0.713071</td>\n",
       "      <td>0.377643</td>\n",
       "      <td>0.709798</td>\n",
       "      <td>-0.399231</td>\n",
       "      <td>0.018227</td>\n",
       "      <td>0.085676</td>\n",
       "    </tr>\n",
       "  </tbody>\n",
       "</table>\n",
       "<p>3 rows × 939 columns</p>\n",
       "</div>"
      ],
      "text/plain": [
       "          1         2         3         4         5         6         7  \\\n",
       "0  0.485651  0.686891  0.489194  0.639722  0.489803  0.647257  0.479730   \n",
       "1  0.441502  0.642091  0.417273  0.592251  0.448839  0.610546  0.435994   \n",
       "2  0.317797  0.799190  0.321328  0.776498  0.318316  0.782066  0.311064   \n",
       "\n",
       "          8         9        10  ...       930       931       932       933  \\\n",
       "0  0.562529  0.490558  0.621214  ...  0.492813  0.541429  0.500371  0.665669   \n",
       "1  0.545069  0.415757  0.576966  ...  0.511724  0.500658  0.514913  0.584451   \n",
       "2  0.745973  0.321459  0.767816  ...  0.720868  0.328639  0.723342  0.373404   \n",
       "\n",
       "        934       935       936       Yaw     Pitch      Roll  \n",
       "0  0.471336  0.676091  0.464005 -0.399231  0.018227  0.085676  \n",
       "1  0.500244  0.594060  0.495387 -0.399231  0.018227  0.085676  \n",
       "2  0.713071  0.377643  0.709798 -0.399231  0.018227  0.085676  \n",
       "\n",
       "[3 rows x 939 columns]"
      ]
     },
     "execution_count": 41,
     "metadata": {},
     "output_type": "execute_result"
    }
   ],
   "source": [
    "# Chech loading data into DataFrame\n",
    "print(raw_df.shape)\n",
    "raw_df.head(3)"
   ]
  },
  {
   "cell_type": "code",
   "execution_count": 42,
   "metadata": {},
   "outputs": [],
   "source": [
    "from sklearn.svm import SVR\n",
    "from sklearn.multioutput import MultiOutputRegressor\n",
    "from sklearn.model_selection import train_test_split"
   ]
  },
  {
   "cell_type": "code",
   "execution_count": 43,
   "metadata": {},
   "outputs": [],
   "source": [
    "features = raw_df.drop(['Yaw', 'Pitch', 'Roll'], axis=1)\n",
    "labels = raw_df[['Yaw', 'Pitch', 'Roll']]"
   ]
  },
  {
   "cell_type": "code",
   "execution_count": 44,
   "metadata": {},
   "outputs": [],
   "source": [
    "features_train, features_validation, labels_train, labels_validation = train_test_split(features, labels, test_size=0.15, random_state=42)"
   ]
  },
  {
   "cell_type": "code",
   "execution_count": 45,
   "metadata": {},
   "outputs": [
    {
     "name": "stdout",
     "output_type": "stream",
     "text": [
      "1575\n",
      "278\n",
      "1575\n",
      "278\n"
     ]
    }
   ],
   "source": [
    "print(len(features_train))\n",
    "print(len(features_validation))\n",
    "print(len(labels_train))\n",
    "print(len(labels_validation))"
   ]
  },
  {
   "cell_type": "code",
   "execution_count": 46,
   "metadata": {},
   "outputs": [],
   "source": [
    "svr = MultiOutputRegressor(SVR(gamma=10)).fit(features_train, labels_train)"
   ]
  },
  {
   "cell_type": "code",
   "execution_count": 47,
   "metadata": {},
   "outputs": [
    {
     "data": {
      "text/plain": [
       "1.0"
      ]
     },
     "execution_count": 47,
     "metadata": {},
     "output_type": "execute_result"
    }
   ],
   "source": [
    "svr.score(features_validation, labels_validation)"
   ]
  },
  {
   "cell_type": "code",
   "execution_count": null,
   "metadata": {},
   "outputs": [],
   "source": []
  }
 ],
 "metadata": {
  "kernelspec": {
   "display_name": "Python 3.10.4 64-bit",
   "language": "python",
   "name": "python3"
  },
  "language_info": {
   "codemirror_mode": {
    "name": "ipython",
    "version": 3
   },
   "file_extension": ".py",
   "mimetype": "text/x-python",
   "name": "python",
   "nbconvert_exporter": "python",
   "pygments_lexer": "ipython3",
   "version": "3.10.4"
  },
  "orig_nbformat": 4,
  "vscode": {
   "interpreter": {
    "hash": "78cf9bbf4d5673c22b70b0226dc0d585727fc71a1c48b884c876ecd8bc8de803"
   }
  }
 },
 "nbformat": 4,
 "nbformat_minor": 2
}
